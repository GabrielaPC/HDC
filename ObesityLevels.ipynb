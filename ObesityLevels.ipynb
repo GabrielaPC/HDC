{
 "cells": [
  {
   "cell_type": "markdown",
   "metadata": {},
   "source": [
    "# [Estimation of Obesity Levels Based On Eating Habits and Physical Condition](https://archive.ics.uci.edu/dataset/544/estimation+of+obesity+levels+based+on+eating+habits+and+physical+condition)"
   ]
  },
  {
   "cell_type": "markdown",
   "metadata": {},
   "source": [
    "This dataset include data for the estimation of obesity levels in individuals from the countries of Mexico, Peru and Colombia, based on their eating habits and physical condition."
   ]
  },
  {
   "cell_type": "markdown",
   "metadata": {},
   "source": [
    "### Estrutura do dataset"
   ]
  },
  {
   "cell_type": "markdown",
   "metadata": {},
   "source": [
    "| Alvo  | Valores |\n",
    "| ------------- | ------------- |\n",
    "|NObeyesdad| {Insufficient Weight, Normal Weight, Overweight Level I, Overweight Level II, Obesity Type I, Obesity Type II, Obesity Type III}| "
   ]
  },
  {
   "cell_type": "markdown",
   "metadata": {},
   "source": [
    "| Features  | Tipo |\n",
    "| ------------- | ------------- |\n",
    "|Gender|Categorical|\n",
    "|Age|Continuous|\n",
    "|Height|Continuous|\n",
    "|Weight|Continuous|\n",
    "|family_history_with_overweight|Binary|\n",
    "|FAVC|Binary|\n",
    "|FCVC|Integer|\n",
    "|NCP|Continuous|\n",
    "|CAEC|Categorical|\n",
    "|SMOKE|Binary|\n",
    "|CH2O|Continuous|\n",
    "|SCC|Binary|\n",
    "|FAF|Continuous|\n",
    "|TUE|Integer|\n",
    "|CALC|Categorical|\n",
    "|MTRANS|Categorical|"
   ]
  },
  {
   "cell_type": "markdown",
   "metadata": {},
   "source": [
    "### Instalação das dependências"
   ]
  },
  {
   "cell_type": "code",
   "execution_count": 61,
   "metadata": {},
   "outputs": [
    {
     "name": "stdout",
     "output_type": "stream",
     "text": [
      "Using cpu device\n"
     ]
    }
   ],
   "source": [
    "import pandas as pd\n",
    "\n",
    "from sklearn.model_selection import train_test_split\n",
    "\n",
    "from ucimlrepo import fetch_ucirepo \n",
    "pd.options.mode.copy_on_write = True\n",
    "\n",
    "import warnings\n",
    "warnings.simplefilter(action='ignore', category=FutureWarning)\n",
    "\n",
    "import torch\n",
    "import torch.nn as nn\n",
    "import torchmetrics\n",
    "\n",
    "import torchhd\n",
    "from torchhd.models import  IntRVFL\n",
    "from torchhd import embeddings\n",
    "\n",
    "# Use the GPU if available\n",
    "device = torch.device(\"cuda\" if torch.cuda.is_available() else \"cpu\")\n",
    "print(\"Using {} device\".format(device))\n",
    "\n",
    "DIMENSIONS = 10000\n",
    "NUM_LEVELS = 100\n",
    "HIDDEN_LAYERS = 45 # O aumento de hidden layers pode gerar problemas de performance.\n",
    "BATCH_SIZE = 1 "
   ]
  },
  {
   "cell_type": "markdown",
   "metadata": {},
   "source": [
    "### Importando o dataset"
   ]
  },
  {
   "cell_type": "code",
   "execution_count": 62,
   "metadata": {},
   "outputs": [],
   "source": [
    "# fetch dataset \n",
    "dataset = fetch_ucirepo(id=544) \n",
    "  \n",
    "# data (as pandas dataframes) \n",
    "X = dataset.data.features \n",
    "Y = dataset.data.targets \n",
    "\n",
    "# Transform labels to int\n",
    "target_class = 'NObeyesdad'\n",
    "\n",
    "labels = Y[target_class].unique()\n",
    "for i in range(len(labels)):\n",
    "  Y.loc[Y[target_class]==labels[i], target_class] = i"
   ]
  },
  {
   "cell_type": "markdown",
   "metadata": {},
   "source": [
    "### One-hot Encoding das features"
   ]
  },
  {
   "cell_type": "code",
   "execution_count": 63,
   "metadata": {},
   "outputs": [],
   "source": [
    "cat_features = []\n",
    "num_features = []\n",
    "for feature in dataset.data.features:\n",
    "    feature_info = dataset.variables.loc[dataset.variables[\"name\"] == feature]\n",
    "    if feature_info.type.values[0] == \"Categorical\":\n",
    "        cat_features.append(feature)\n",
    "    else:\n",
    "        if feature_info.type.values[0] == \"Binary\":\n",
    "            values = X[feature].unique()\n",
    "            for i in range(len(values)):\n",
    "                X.loc[X[feature]==values[i], feature] = 2*i -1\n",
    "\n",
    "        X[feature] = X[feature].astype(float) # Transforma em float caso seja str\n",
    "        num_features.append(feature)"
   ]
  },
  {
   "cell_type": "code",
   "execution_count": 64,
   "metadata": {},
   "outputs": [],
   "source": [
    "X = pd.get_dummies(X,columns=cat_features, dtype=int)"
   ]
  },
  {
   "cell_type": "markdown",
   "metadata": {},
   "source": [
    "### Dividindo os conjuntos de teste e treino"
   ]
  },
  {
   "cell_type": "code",
   "execution_count": 65,
   "metadata": {},
   "outputs": [],
   "source": [
    "x_train, x_test, y_train, y_test = train_test_split(X, Y,test_size= 0.3, random_state = 28)\n",
    "y_true = list(y_test[target_class])\n",
    "\n",
    "y_train= y_train.astype(int)\n",
    "y_test= y_test.astype(int)\n",
    "\n",
    "num_classes = len(labels)\n",
    "num_features = len(x_train.columns)\n"
   ]
  },
  {
   "cell_type": "markdown",
   "metadata": {},
   "source": [
    "### HDC\n",
    "\n",
    "Classificação utilizando o modelo IntRVFL implementado pelo torchhd.\n",
    "\n",
    "Os modelos e encoders foram feitos a partir de adaptações do código do [exemplo apresentado na documentação do torchhd ](https://torchhd.readthedocs.io/en/stable/classification.html)"
   ]
  },
  {
   "cell_type": "markdown",
   "metadata": {},
   "source": [
    "#### Record-based enconding dos dados"
   ]
  },
  {
   "cell_type": "code",
   "execution_count": 66,
   "metadata": {},
   "outputs": [],
   "source": [
    "class RecordEncoder(nn.Module):\n",
    "        def __init__(self, out_features, size, levels):\n",
    "                super(RecordEncoder, self).__init__()\n",
    "                self.position = embeddings.Random(size, out_features)\n",
    "                self.value = embeddings.Level(levels, out_features)\n",
    "\n",
    "        def forward(self, x):\n",
    "                sample_hv = torchhd.bind(self.position.weight, self.value(x)) # Bind da posicao com os valores dos hipervetores\n",
    "                sample_hv = torchhd.multiset(sample_hv) # Bundle de todos os hipervetores\n",
    "                return torchhd.hard_quantize(sample_hv)\n",
    "\n",
    "record_encode = RecordEncoder(DIMENSIONS, num_features, NUM_LEVELS)\n",
    "record_encode = record_encode.to(device)\n",
    "\n",
    "\n",
    "record_model = IntRVFL(DIMENSIONS, HIDDEN_LAYERS, num_classes)\n",
    "record_model = record_model.to(device)"
   ]
  },
  {
   "cell_type": "markdown",
   "metadata": {},
   "source": [
    "#### Treinamento"
   ]
  },
  {
   "cell_type": "code",
   "execution_count": 67,
   "metadata": {},
   "outputs": [],
   "source": [
    "with torch.no_grad():\n",
    "                samples = torch.tensor(x_train.values).to(device)\n",
    "                labels = torch.tensor(y_train.values).squeeze().to(device)\n",
    "\n",
    "                \"\"\" Treinamento record-based\"\"\"\n",
    "                samples_hv = record_encode(samples)\n",
    "                record_model.fit_ridge_regression(samples_hv, labels)"
   ]
  },
  {
   "cell_type": "markdown",
   "metadata": {},
   "source": [
    "#### Teste"
   ]
  },
  {
   "cell_type": "code",
   "execution_count": 68,
   "metadata": {},
   "outputs": [
    {
     "name": "stdout",
     "output_type": "stream",
     "text": [
      "Acuracia obtida por record-based encoding: 51.42%\n"
     ]
    }
   ],
   "source": [
    "record_accuracy = torchmetrics.Accuracy(\"multiclass\", num_classes=num_classes)\n",
    "\n",
    "with torch.no_grad():\n",
    "        samples = torch.tensor(x_test.values).to(device)\n",
    "        labels = torch.tensor(y_test.values).squeeze().to(device)\n",
    "\n",
    "        \"\"\" Testes record-based\"\"\"\n",
    "        samples_hv = record_encode(samples)\n",
    "        outputs = record_model(samples_hv)\n",
    "        record_accuracy.update(outputs.cpu(), labels)\n",
    "\n",
    "record_acc = round((record_accuracy.compute().item() * 100), 2)\n",
    "print(f\"Acuracia obtida por record-based encoding: {record_acc}%\")"
   ]
  },
  {
   "cell_type": "markdown",
   "metadata": {},
   "source": [
    "#### N-gram based enconding dos dados"
   ]
  },
  {
   "cell_type": "code",
   "execution_count": 69,
   "metadata": {},
   "outputs": [],
   "source": [
    "class NGramEncoder(nn.Module):\n",
    "        def __init__(self, out_features, size, levels,n=3):\n",
    "                super(NGramEncoder, self).__init__()\n",
    "                self.position = embeddings.Random(size, out_features)\n",
    "                self.value = embeddings.Level(levels, out_features)\n",
    "                self.n = n\n",
    "\n",
    "        def forward(self, x):\n",
    "                sample_hv = torchhd.bind(self.position.weight, self.value(x)) # Bind da posicao com os valores dos hipervetores\n",
    "                sample_hv = torchhd.ngrams(sample_hv,self.n) # n-gram dos hipervetores\n",
    "                return torchhd.hard_quantize(sample_hv)\n",
    "\n",
    "n_gram_encode = NGramEncoder(DIMENSIONS, num_features, NUM_LEVELS)\n",
    "n_gram_encode = n_gram_encode.to(device)\n",
    "\n",
    "n_gram_model = IntRVFL(DIMENSIONS, HIDDEN_LAYERS, num_classes)\n",
    "n_gram_model = n_gram_model.to(device)"
   ]
  },
  {
   "cell_type": "markdown",
   "metadata": {},
   "source": [
    "#### Treinamento"
   ]
  },
  {
   "cell_type": "code",
   "execution_count": 70,
   "metadata": {},
   "outputs": [],
   "source": [
    "with torch.no_grad():\n",
    "                samples = torch.tensor(x_train.values).to(device)\n",
    "                labels = torch.tensor(y_train.values).squeeze().to(device)\n",
    "\n",
    "                \"\"\" Treinamento n-gram based\"\"\"\n",
    "                samples_hv = n_gram_encode(samples)\n",
    "                n_gram_model.fit_ridge_regression(samples_hv, labels)"
   ]
  },
  {
   "cell_type": "markdown",
   "metadata": {},
   "source": [
    "#### Teste"
   ]
  },
  {
   "cell_type": "code",
   "execution_count": 71,
   "metadata": {},
   "outputs": [
    {
     "name": "stdout",
     "output_type": "stream",
     "text": [
      "Acuracia obtida por n-gram based encoding: 56.15%\n"
     ]
    }
   ],
   "source": [
    "n_gram_accuracy = torchmetrics.Accuracy(\"multiclass\", num_classes=num_classes)\n",
    "\n",
    "with torch.no_grad():\n",
    "        samples = torch.tensor(x_test.values).to(device)\n",
    "        labels = torch.tensor(y_test.values).squeeze().to(device)\n",
    "\n",
    "        \"\"\" Testes n-gram based\"\"\"\n",
    "        samples_hv = n_gram_encode(samples)\n",
    "        outputs = n_gram_model(samples_hv)\n",
    "        n_gram_accuracy.update(outputs.cpu(), labels)\n",
    "\n",
    "n_gram_acc = round((n_gram_accuracy.compute().item() * 100), 2)\n",
    "print(f\"Acuracia obtida por n-gram based encoding: {n_gram_acc}%\")"
   ]
  },
  {
   "cell_type": "markdown",
   "metadata": {},
   "source": [
    "### Comparação entre codificações"
   ]
  },
  {
   "cell_type": "code",
   "execution_count": 72,
   "metadata": {},
   "outputs": [
    {
     "data": {
      "image/png": "[encoded data removed]",
      "text/plain": [
       "<Figure size 640x480 with 1 Axes>"
      ]
     },
     "metadata": {},
     "output_type": "display_data"
    }
   ],
   "source": [
    "import matplotlib.pyplot as plt\n",
    "\n",
    "fig, ax = plt.subplots()\n",
    "\n",
    "encodings = ['Record', 'N-gram']\n",
    "counts = [record_acc, n_gram_acc]\n",
    "bar_colors = ['darkgreen', 'lightgreen']\n",
    "\n",
    "bar = ax.bar(encodings, counts, color=bar_colors)\n",
    "\n",
    "ax.set_ylabel('Acurácia (%)')\n",
    "ax.set_title('Resultados encontrados por cada codificação')\n",
    "ax.set_ylim(50, 80)\n",
    "ax.bar_label(bar, fmt='{:,.2f}')\n",
    "plt.show()"
   ]
  }
 ],
 "metadata": {
  "kernelspec": {
   "display_name": "Python 3",
   "language": "python",
   "name": "python3"
  },
  "language_info": {
   "codemirror_mode": {
    "name": "ipython",
    "version": 3
   },
   "file_extension": ".py",
   "mimetype": "text/x-python",
   "name": "python",
   "nbconvert_exporter": "python",
   "pygments_lexer": "ipython3",
   "version": "3.11.5"
  }
 },
 "nbformat": 4,
 "nbformat_minor": 2
}
